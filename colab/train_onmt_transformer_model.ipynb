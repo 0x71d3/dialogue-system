{
  "nbformat": 4,
  "nbformat_minor": 0,
  "metadata": {
    "colab": {
      "name": "train_onmt_transformer_model.ipynb",
      "provenance": [],
      "private_outputs": true,
      "collapsed_sections": [],
      "toc_visible": true
    },
    "kernelspec": {
      "name": "python3",
      "display_name": "Python 3"
    },
    "accelerator": "GPU"
  },
  "cells": [
    {
      "cell_type": "markdown",
      "metadata": {
        "id": "-9LpHGoFK-WB",
        "colab_type": "text"
      },
      "source": [
        "# Train OpenNMT Transformer Model"
      ]
    },
    {
      "cell_type": "markdown",
      "metadata": {
        "id": "Gs5lVTxwHTYm",
        "colab_type": "text"
      },
      "source": [
        "https://opennmt.net/OpenNMT-py/FAQ.html#how-do-i-use-the-transformer-model"
      ]
    },
    {
      "cell_type": "code",
      "metadata": {
        "id": "vQpSikTUJMmm",
        "colab_type": "code",
        "colab": {}
      },
      "source": [
        "from google.colab import drive \n",
        "drive.mount('/content/drive')"
      ],
      "execution_count": 0,
      "outputs": []
    },
    {
      "cell_type": "markdown",
      "metadata": {
        "id": "ZHRyY90eKzQB",
        "colab_type": "text"
      },
      "source": [
        "## Install OpenNMT-py"
      ]
    },
    {
      "cell_type": "code",
      "metadata": {
        "id": "39_ApOOeAj8E",
        "colab_type": "code",
        "colab": {}
      },
      "source": [
        "!apt install sox libsox-dev libsox-fmt-all"
      ],
      "execution_count": 0,
      "outputs": []
    },
    {
      "cell_type": "code",
      "metadata": {
        "id": "gFMguHcS_qnw",
        "colab_type": "code",
        "colab": {}
      },
      "source": [
        "!pip install torchaudio -f https://download.pytorch.org/whl/torch_stable.html"
      ],
      "execution_count": 0,
      "outputs": []
    },
    {
      "cell_type": "code",
      "metadata": {
        "id": "Ty5SNBFfKlLP",
        "colab_type": "code",
        "colab": {}
      },
      "source": [
        "!git clone https://github.com/OpenNMT/OpenNMT-py\n",
        "!cd OpenNMT-py; pip install -r requirements.opt.txt"
      ],
      "execution_count": 0,
      "outputs": []
    },
    {
      "cell_type": "markdown",
      "metadata": {
        "id": "VlojZU5pMdX0",
        "colab_type": "text"
      },
      "source": [
        "## Preprocess the data"
      ]
    },
    {
      "cell_type": "code",
      "metadata": {
        "id": "8n5CHzHmjpbZ",
        "colab_type": "code",
        "colab": {}
      },
      "source": [
        "!pip install configargparse"
      ],
      "execution_count": 0,
      "outputs": []
    },
    {
      "cell_type": "code",
      "metadata": {
        "id": "EJ20NopKMpbn",
        "colab_type": "code",
        "colab": {}
      },
      "source": [
        "!pip install -U torchtext"
      ],
      "execution_count": 0,
      "outputs": []
    },
    {
      "cell_type": "code",
      "metadata": {
        "id": "YXFs272EByHu",
        "colab_type": "code",
        "colab": {}
      },
      "source": [
        "!python OpenNMT-py/preprocess.py \\\n",
        "    -train_src drive/My\\ Drive/src-train.txt \\\n",
        "    -train_tgt drive/My\\ Drive/tgt-train.txt \\\n",
        "    -valid_src drive/My\\ Drive/src-val.txt \\\n",
        "    -valid_tgt drive/My\\ Drive/tgt-val.txt \\\n",
        "    -save_data drive/My\\ Drive/demo"
      ],
      "execution_count": 0,
      "outputs": []
    },
    {
      "cell_type": "markdown",
      "metadata": {
        "id": "3uoXJqZnNJ_W",
        "colab_type": "text"
      },
      "source": [
        "## Train the model"
      ]
    },
    {
      "cell_type": "code",
      "metadata": {
        "id": "Opr6ceuxGSDO",
        "colab_type": "code",
        "colab": {}
      },
      "source": [
        "!python OpenNMT-py/train.py \\\n",
        "    -data drive/My\\ Drive/demo \\\n",
        "    -save_model drive/My\\ Drive/demo-model \\\n",
        "    -layers 6 \\\n",
        "    -rnn_size 512 \\\n",
        "    -word_vec_size 512 \\\n",
        "    -transformer_ff 2048 \\\n",
        "    -heads 8 \\\n",
        "    -encoder_type transformer \\\n",
        "    -decoder_type transformer \\\n",
        "    -position_encoding \\\n",
        "    -train_steps 200000 \\\n",
        "    -max_generator_batches 2 \\\n",
        "    -dropout 0.1 \\\n",
        "    -batch_size 4096 \\\n",
        "    -batch_type tokens \\\n",
        "    -normalization tokens \\\n",
        "    -accum_count 2 \\\n",
        "    -optim adam \\\n",
        "    -adam_beta2 0.998 \\\n",
        "    -decay_method noam \\\n",
        "    -warmup_steps 8000 \\\n",
        "    -learning_rate 2 \\\n",
        "    -max_grad_norm 0 \\\n",
        "    -param_init 0 \\\n",
        "    -param_init_glorot \\\n",
        "    -label_smoothing 0.1 \\\n",
        "    -valid_steps 10000 \\\n",
        "    -save_checkpoint_steps 10000 \\\n",
        "    -world_size 1 \\\n",
        "    -gpu_ranks 0"
      ],
      "execution_count": 0,
      "outputs": []
    },
    {
      "cell_type": "markdown",
      "metadata": {
        "id": "rpW_0H7wNL5i",
        "colab_type": "text"
      },
      "source": [
        "## Translate"
      ]
    },
    {
      "cell_type": "code",
      "metadata": {
        "id": "bUUTafQcHbTF",
        "colab_type": "code",
        "colab": {}
      },
      "source": [
        "!python OpenNMT-py/translate.py \\\n",
        "    -model drive/My\\ Drive/demo-model_step_200000.pt \\\n",
        "    -src drive/My\\ Drive/src-test.txt \\\n",
        "    -output drive/My\\ Drive/pred.txt \\\n",
        "    -replace_unk \\\n",
        "    -verbose"
      ],
      "execution_count": 0,
      "outputs": []
    }
  ]
}