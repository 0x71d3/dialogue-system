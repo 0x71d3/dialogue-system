{
  "nbformat": 4,
  "nbformat_minor": 0,
  "metadata": {
    "colab": {
      "name": "simple_dialogue_system.ipynb",
      "provenance": [],
      "private_outputs": true,
      "collapsed_sections": []
    },
    "kernelspec": {
      "name": "python3",
      "display_name": "Python 3"
    },
    "accelerator": "GPU"
  },
  "cells": [
    {
      "cell_type": "markdown",
      "metadata": {
        "id": "-9LpHGoFK-WB",
        "colab_type": "text"
      },
      "source": [
        "# Simple Dialogue System"
      ]
    },
    {
      "cell_type": "markdown",
      "metadata": {
        "id": "ZHRyY90eKzQB",
        "colab_type": "text"
      },
      "source": [
        "## Install"
      ]
    },
    {
      "cell_type": "code",
      "metadata": {
        "id": "yn46cM9Mjhg2",
        "colab_type": "code",
        "colab": {}
      },
      "source": [
        "!apt install libsox-dev"
      ],
      "execution_count": 0,
      "outputs": []
    },
    {
      "cell_type": "code",
      "metadata": {
        "id": "k1Arc4oXjmOu",
        "colab_type": "code",
        "colab": {}
      },
      "source": [
        "!git clone http://github.com/pytorch/audio\n",
        "!cd audio;python setup.py install"
      ],
      "execution_count": 0,
      "outputs": []
    },
    {
      "cell_type": "code",
      "metadata": {
        "id": "Ty5SNBFfKlLP",
        "colab_type": "code",
        "colab": {}
      },
      "source": [
        "!git clone https://github.com/OpenNMT/OpenNMT-py\n",
        "!pip install -r OpenNMT-py/requirements.opt.txt"
      ],
      "execution_count": 0,
      "outputs": []
    },
    {
      "cell_type": "markdown",
      "metadata": {
        "id": "VlojZU5pMdX0",
        "colab_type": "text"
      },
      "source": [
        "## Preprocess"
      ]
    },
    {
      "cell_type": "code",
      "metadata": {
        "id": "8n5CHzHmjpbZ",
        "colab_type": "code",
        "colab": {}
      },
      "source": [
        "!pip install configargparse"
      ],
      "execution_count": 0,
      "outputs": []
    },
    {
      "cell_type": "code",
      "metadata": {
        "id": "CggVq9Y0jqeY",
        "colab_type": "code",
        "colab": {}
      },
      "source": [
        "!pip install torchtext==0.4.0"
      ],
      "execution_count": 0,
      "outputs": []
    },
    {
      "cell_type": "code",
      "metadata": {
        "id": "EJ20NopKMpbn",
        "colab_type": "code",
        "colab": {}
      },
      "source": [
        "!python OpenNMT-py/preprocess.py -train_src drive/My\\ Drive/simple-dialogue-system/data/src-train.txt -train_tgt drive/My\\ Drive/simple-dialogue-system/data/tgt-train.txt -valid_src drive/My\\ Drive/simple-dialogue-system/data/src-val.txt -valid_tgt drive/My\\ Drive/simple-dialogue-system/data/tgt-val.txt -save_data drive/My\\ Drive/simple-dialogue-system/data/stc"
      ],
      "execution_count": 0,
      "outputs": []
    },
    {
      "cell_type": "markdown",
      "metadata": {
        "id": "3uoXJqZnNJ_W",
        "colab_type": "text"
      },
      "source": [
        "## Train"
      ]
    },
    {
      "cell_type": "code",
      "metadata": {
        "id": "eK4VnRGclLIJ",
        "colab_type": "code",
        "colab": {}
      },
      "source": [
        "!python OpenNMT-py/train.py -data drive/My\\ Drive/simple-dialogue-system/data/stc -save_model drive/My\\ Drive/simple-dialogue-system/data/model/stc-model -layers 6 -rnn_size 512 -word_vec_size 512 -transformer_ff 2048 -heads 8 -encoder_type transformer -decoder_type transformer -position_encoding -train_steps 200000 -max_generator_batches 2 -dropout 0.1 -batch_size 4096 -batch_type tokens -normalization tokens -accum_count 2 -optim adam -adam_beta2 0.998 -decay_method noam -warmup_steps 8000 -learning_rate 2 -max_grad_norm 0 -param_init 0 -param_init_glorot -label_smoothing 0.1 -valid_steps 1000 -save_checkpoint_steps 10000 -world_size 1 -gpu_rank 0 # -train_from drive/My\\ Drive/simple-dialogue-system/data/model/stc-model_step_20000.pt"
      ],
      "execution_count": 0,
      "outputs": []
    },
    {
      "cell_type": "markdown",
      "metadata": {
        "id": "rpW_0H7wNL5i",
        "colab_type": "text"
      },
      "source": [
        "## Translate"
      ]
    },
    {
      "cell_type": "code",
      "metadata": {
        "id": "KqjxjmfgnoH5",
        "colab_type": "code",
        "colab": {}
      },
      "source": [
        "!python OpenNMT-py/translate.py -model drive/My\\ Drive/simple-dialogue-system/data/model/stc-model_step_200000.pt -src drive/My\\ Drive/simple-dialogue-system/data/src-test.txt -output drive/My\\ Drive/simple-dialogue-system/data/pred.txt -replace_unk -verbose"
      ],
      "execution_count": 0,
      "outputs": []
    }
  ]
}